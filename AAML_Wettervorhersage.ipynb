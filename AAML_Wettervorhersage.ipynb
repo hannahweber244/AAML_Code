{
  "nbformat": 4,
  "nbformat_minor": 0,
  "metadata": {
    "colab": {
      "name": "AAML_Wettervorhersage.ipynb",
      "provenance": [],
      "collapsed_sections": [],
      "authorship_tag": "ABX9TyNo1NEw5USaq+y+uUtRC1kI",
      "include_colab_link": true
    },
    "kernelspec": {
      "name": "python3",
      "display_name": "Python 3"
    },
    "language_info": {
      "name": "python"
    },
    "accelerator": "GPU"
  },
  "cells": [
    {
      "cell_type": "markdown",
      "metadata": {
        "id": "view-in-github",
        "colab_type": "text"
      },
      "source": [
        "<a href=\"https://colab.research.google.com/github/hannahweber244/AAML_Code/blob/main/AAML_Wettervorhersage.ipynb\" target=\"_parent\"><img src=\"https://colab.research.google.com/assets/colab-badge.svg\" alt=\"Open In Colab\"/></a>"
      ]
    },
    {
      "cell_type": "code",
      "metadata": {
        "id": "Yl9CST8927zS"
      },
      "source": [
        "import os\n",
        "import torch\n",
        "import json\n",
        "import argparse\n",
        "from copy import deepcopy\n",
        "import pandas as pd\n",
        "import time\n",
        "import numpy as np\n",
        "\n",
        "import torch\n",
        "import torch.nn as nn\n",
        "import torch.nn.functional as F\n",
        "import torch.optim as optim\n",
        "from torch.autograd import Variable\n",
        "import operator\n",
        "\n",
        "import matplotlib.pyplot as plt\n",
        "import warnings\n",
        "warnings.simplefilter('ignore')\n",
        "\n",
        "device = torch.device('cuda' if torch.cuda.is_available() else 'cpu')"
      ],
      "execution_count": null,
      "outputs": []
    },
    {
      "cell_type": "markdown",
      "metadata": {
        "id": "aNUNUBDbBUuk"
      },
      "source": [
        "Daten herunterladen"
      ]
    },
    {
      "cell_type": "code",
      "metadata": {
        "colab": {
          "base_uri": "https://localhost:8080/"
        },
        "id": "S6roogGb3JpJ",
        "outputId": "549ab5d2-b812-4ccd-af8c-94b525b93e0b"
      },
      "source": [
        "!gdown --id 1KJc4JQPshwXtNdPIJypTjnKo3ViJ3QAZ\n",
        "!unzip weather-hourly.zip"
      ],
      "execution_count": null,
      "outputs": [
        {
          "output_type": "stream",
          "text": [
            "Downloading...\n",
            "From: https://drive.google.com/uc?id=1KJc4JQPshwXtNdPIJypTjnKo3ViJ3QAZ\n",
            "To: /content/weather-hourly.zip\n",
            "12.6MB [00:00, 58.7MB/s]\n",
            "Archive:  weather-hourly.zip\n",
            "  inflating: city_attributes.csv     \n",
            "  inflating: humidity.csv            \n",
            "  inflating: pressure.csv            \n",
            "  inflating: temperature.csv         \n",
            "  inflating: weather_description.csv  \n",
            "  inflating: wind_direction.csv      \n",
            "  inflating: wind_speed.csv          \n"
          ],
          "name": "stdout"
        }
      ]
    },
    {
      "cell_type": "markdown",
      "metadata": {
        "id": "AFoo1hq2EHtE"
      },
      "source": [
        "## Datenvorverarbeitung"
      ]
    },
    {
      "cell_type": "code",
      "metadata": {
        "colab": {
          "base_uri": "https://localhost:8080/",
          "height": 224
        },
        "id": "SCfVszES3sDz",
        "outputId": "a914c834-6efc-45b6-aae8-77e5d4c229aa"
      },
      "source": [
        "df = pd.read_csv('temperature.csv')\n",
        "data = df[['datetime','Portland']].dropna(how = 'any')\n",
        "print(data.shape)\n",
        "data.head()"
      ],
      "execution_count": null,
      "outputs": [
        {
          "output_type": "stream",
          "text": [
            "(45252, 2)\n"
          ],
          "name": "stdout"
        },
        {
          "output_type": "execute_result",
          "data": {
            "text/html": [
              "<div>\n",
              "<style scoped>\n",
              "    .dataframe tbody tr th:only-of-type {\n",
              "        vertical-align: middle;\n",
              "    }\n",
              "\n",
              "    .dataframe tbody tr th {\n",
              "        vertical-align: top;\n",
              "    }\n",
              "\n",
              "    .dataframe thead th {\n",
              "        text-align: right;\n",
              "    }\n",
              "</style>\n",
              "<table border=\"1\" class=\"dataframe\">\n",
              "  <thead>\n",
              "    <tr style=\"text-align: right;\">\n",
              "      <th></th>\n",
              "      <th>datetime</th>\n",
              "      <th>Portland</th>\n",
              "    </tr>\n",
              "  </thead>\n",
              "  <tbody>\n",
              "    <tr>\n",
              "      <th>1</th>\n",
              "      <td>2012-10-01 13:00:00</td>\n",
              "      <td>282.080000</td>\n",
              "    </tr>\n",
              "    <tr>\n",
              "      <th>2</th>\n",
              "      <td>2012-10-01 14:00:00</td>\n",
              "      <td>282.083252</td>\n",
              "    </tr>\n",
              "    <tr>\n",
              "      <th>3</th>\n",
              "      <td>2012-10-01 15:00:00</td>\n",
              "      <td>282.091866</td>\n",
              "    </tr>\n",
              "    <tr>\n",
              "      <th>4</th>\n",
              "      <td>2012-10-01 16:00:00</td>\n",
              "      <td>282.100481</td>\n",
              "    </tr>\n",
              "    <tr>\n",
              "      <th>5</th>\n",
              "      <td>2012-10-01 17:00:00</td>\n",
              "      <td>282.109095</td>\n",
              "    </tr>\n",
              "  </tbody>\n",
              "</table>\n",
              "</div>"
            ],
            "text/plain": [
              "              datetime    Portland\n",
              "1  2012-10-01 13:00:00  282.080000\n",
              "2  2012-10-01 14:00:00  282.083252\n",
              "3  2012-10-01 15:00:00  282.091866\n",
              "4  2012-10-01 16:00:00  282.100481\n",
              "5  2012-10-01 17:00:00  282.109095"
            ]
          },
          "metadata": {
            "tags": []
          },
          "execution_count": 3
        }
      ]
    },
    {
      "cell_type": "code",
      "metadata": {
        "colab": {
          "base_uri": "https://localhost:8080/"
        },
        "id": "-EvzwIz33-Rv",
        "outputId": "ebd18964-7829-4deb-c039-d375432e9811"
      },
      "source": [
        "data.dtypes"
      ],
      "execution_count": null,
      "outputs": [
        {
          "output_type": "execute_result",
          "data": {
            "text/plain": [
              "datetime     object\n",
              "Portland    float64\n",
              "dtype: object"
            ]
          },
          "metadata": {
            "tags": []
          },
          "execution_count": 4
        }
      ]
    },
    {
      "cell_type": "code",
      "metadata": {
        "colab": {
          "base_uri": "https://localhost:8080/"
        },
        "id": "W7RwRWOd4kNT",
        "outputId": "380927be-4d0b-454d-986d-5547dc8fcb69"
      },
      "source": [
        "data.datetime = pd.to_datetime(data.datetime)\n",
        "data.dtypes"
      ],
      "execution_count": null,
      "outputs": [
        {
          "output_type": "execute_result",
          "data": {
            "text/plain": [
              "datetime    datetime64[ns]\n",
              "Portland           float64\n",
              "dtype: object"
            ]
          },
          "metadata": {
            "tags": []
          },
          "execution_count": 5
        }
      ]
    },
    {
      "cell_type": "code",
      "metadata": {
        "colab": {
          "base_uri": "https://localhost:8080/",
          "height": 205
        },
        "id": "HjzDFAXj4t0O",
        "outputId": "80b23ca5-f650-4a5d-b8f6-6366aef98886"
      },
      "source": [
        "end_training = pd.to_datetime('2016-11-30 00:00:00')\n",
        "data_train = data.where(data.datetime < end_training).dropna(how = 'all').reset_index(drop=True)\n",
        "data_test = data.where(data.datetime >= end_training).dropna(how = 'all').reset_index(drop = True)\n",
        "data_test.head()"
      ],
      "execution_count": null,
      "outputs": [
        {
          "output_type": "execute_result",
          "data": {
            "text/html": [
              "<div>\n",
              "<style scoped>\n",
              "    .dataframe tbody tr th:only-of-type {\n",
              "        vertical-align: middle;\n",
              "    }\n",
              "\n",
              "    .dataframe tbody tr th {\n",
              "        vertical-align: top;\n",
              "    }\n",
              "\n",
              "    .dataframe thead th {\n",
              "        text-align: right;\n",
              "    }\n",
              "</style>\n",
              "<table border=\"1\" class=\"dataframe\">\n",
              "  <thead>\n",
              "    <tr style=\"text-align: right;\">\n",
              "      <th></th>\n",
              "      <th>datetime</th>\n",
              "      <th>Portland</th>\n",
              "    </tr>\n",
              "  </thead>\n",
              "  <tbody>\n",
              "    <tr>\n",
              "      <th>0</th>\n",
              "      <td>2016-11-30 00:00:00</td>\n",
              "      <td>284.15</td>\n",
              "    </tr>\n",
              "    <tr>\n",
              "      <th>1</th>\n",
              "      <td>2016-11-30 01:00:00</td>\n",
              "      <td>283.29</td>\n",
              "    </tr>\n",
              "    <tr>\n",
              "      <th>2</th>\n",
              "      <td>2016-11-30 02:00:00</td>\n",
              "      <td>281.44</td>\n",
              "    </tr>\n",
              "    <tr>\n",
              "      <th>3</th>\n",
              "      <td>2016-11-30 03:00:00</td>\n",
              "      <td>280.87</td>\n",
              "    </tr>\n",
              "    <tr>\n",
              "      <th>4</th>\n",
              "      <td>2016-11-30 04:00:00</td>\n",
              "      <td>280.27</td>\n",
              "    </tr>\n",
              "  </tbody>\n",
              "</table>\n",
              "</div>"
            ],
            "text/plain": [
              "             datetime  Portland\n",
              "0 2016-11-30 00:00:00    284.15\n",
              "1 2016-11-30 01:00:00    283.29\n",
              "2 2016-11-30 02:00:00    281.44\n",
              "3 2016-11-30 03:00:00    280.87\n",
              "4 2016-11-30 04:00:00    280.27"
            ]
          },
          "metadata": {
            "tags": []
          },
          "execution_count": 6
        }
      ]
    },
    {
      "cell_type": "code",
      "metadata": {
        "colab": {
          "base_uri": "https://localhost:8080/",
          "height": 205
        },
        "id": "x85D45GI5UC4",
        "outputId": "a961f412-678d-4762-f19b-edeb241aacaa"
      },
      "source": [
        "data_train.tail()"
      ],
      "execution_count": null,
      "outputs": [
        {
          "output_type": "execute_result",
          "data": {
            "text/html": [
              "<div>\n",
              "<style scoped>\n",
              "    .dataframe tbody tr th:only-of-type {\n",
              "        vertical-align: middle;\n",
              "    }\n",
              "\n",
              "    .dataframe tbody tr th {\n",
              "        vertical-align: top;\n",
              "    }\n",
              "\n",
              "    .dataframe thead th {\n",
              "        text-align: right;\n",
              "    }\n",
              "</style>\n",
              "<table border=\"1\" class=\"dataframe\">\n",
              "  <thead>\n",
              "    <tr style=\"text-align: right;\">\n",
              "      <th></th>\n",
              "      <th>datetime</th>\n",
              "      <th>Portland</th>\n",
              "    </tr>\n",
              "  </thead>\n",
              "  <tbody>\n",
              "    <tr>\n",
              "      <th>36486</th>\n",
              "      <td>2016-11-29 19:00:00</td>\n",
              "      <td>281.57</td>\n",
              "    </tr>\n",
              "    <tr>\n",
              "      <th>36487</th>\n",
              "      <td>2016-11-29 20:00:00</td>\n",
              "      <td>282.43</td>\n",
              "    </tr>\n",
              "    <tr>\n",
              "      <th>36488</th>\n",
              "      <td>2016-11-29 21:00:00</td>\n",
              "      <td>282.41</td>\n",
              "    </tr>\n",
              "    <tr>\n",
              "      <th>36489</th>\n",
              "      <td>2016-11-29 22:00:00</td>\n",
              "      <td>283.12</td>\n",
              "    </tr>\n",
              "    <tr>\n",
              "      <th>36490</th>\n",
              "      <td>2016-11-29 23:00:00</td>\n",
              "      <td>283.97</td>\n",
              "    </tr>\n",
              "  </tbody>\n",
              "</table>\n",
              "</div>"
            ],
            "text/plain": [
              "                 datetime  Portland\n",
              "36486 2016-11-29 19:00:00    281.57\n",
              "36487 2016-11-29 20:00:00    282.43\n",
              "36488 2016-11-29 21:00:00    282.41\n",
              "36489 2016-11-29 22:00:00    283.12\n",
              "36490 2016-11-29 23:00:00    283.97"
            ]
          },
          "metadata": {
            "tags": []
          },
          "execution_count": 7
        }
      ]
    },
    {
      "cell_type": "code",
      "metadata": {
        "id": "tKzQhIyPELPp"
      },
      "source": [
        "sequence_length = 36\n",
        "def create_dataset(series, window_size = 5):\n",
        "    result = list()\n",
        "    for i in range(len(series)-window_size-1):\n",
        "        obs = np.array(series[i:i+window_size])\n",
        "        lab = np.array(series[i+window_size+1])\n",
        "        result.append((obs,lab))\n",
        "    return result\n",
        "\n",
        "train_ = create_dataset(data_train['Portland'], window_size = sequence_length)\n",
        "test_ = create_dataset(data_test['Portland'], window_size = sequence_length)"
      ],
      "execution_count": null,
      "outputs": []
    },
    {
      "cell_type": "code",
      "metadata": {
        "colab": {
          "base_uri": "https://localhost:8080/"
        },
        "id": "8oXBRTf3K2wo",
        "outputId": "0a33f4d5-46ee-48dd-dcdb-3169e1397bc1"
      },
      "source": [
        "train_[:1]"
      ],
      "execution_count": null,
      "outputs": [
        {
          "output_type": "execute_result",
          "data": {
            "text/plain": [
              "[(array([282.08      , 282.08325197, 282.09186648, 282.10048098,\n",
              "         282.10909548, 282.11770998, 282.12632448, 282.13493898,\n",
              "         282.14355348, 282.15216798, 282.16078248, 282.16939698,\n",
              "         282.17801149, 282.18662599, 282.19524049, 282.20385499,\n",
              "         282.21246949, 282.22108399, 282.22969849, 282.23831299,\n",
              "         282.2469275 , 282.255542  , 282.2641565 , 282.272771  ,\n",
              "         282.2813855 , 282.29      , 282.51      , 284.44      ,\n",
              "         287.86      , 292.26      , 292.73      , 295.57      ,\n",
              "         297.94      , 300.        , 300.55      , 300.37      ]),\n",
              "  array(296.42))]"
            ]
          },
          "metadata": {
            "tags": []
          },
          "execution_count": 101
        }
      ]
    },
    {
      "cell_type": "markdown",
      "metadata": {
        "id": "517Ma7db5h2B"
      },
      "source": [
        "## Modell"
      ]
    },
    {
      "cell_type": "code",
      "metadata": {
        "id": "Vd8XYcr75WRg"
      },
      "source": [
        "class Predictor(nn.Module):\n",
        "\n",
        "    def __init__(self, input_dim = 1, hidden_dim = 1, predict_size = 1, num_layers = 1, seq_len = 5):\n",
        "        super(Predictor, self).__init__()\n",
        "        self.hidden_dim = predict_size\n",
        "        self.batch_size = 0\n",
        "        self.num_layers = num_layers\n",
        "        self.seq_len = seq_len\n",
        "        self.input_dim = input_dim\n",
        "        self.rnn = nn.ModuleList()\n",
        "        #for k in range(seq_len):\n",
        "        #    self.rnn.append(nn.LSTMCell(input_size=input_dim, hidden_size=hidden_dim))\n",
        "\n",
        "        self.fc = nn.Sequential(nn.Linear(hidden_dim, hidden_dim), \n",
        "                                nn.ReLU(),\n",
        "                                nn.Linear(hidden_dim, hidden_dim), \n",
        "                                nn.ReLU(),\n",
        "                                nn.Linear(hidden_dim, predict_size),\n",
        "                                nn.ReLU())\n",
        "        self.LSTM = nn.LSTM(input_size=input_dim, \n",
        "                            hidden_size = predict_size, \n",
        "                            num_layers = num_layers, \n",
        "                            batch_first = True)\n",
        "    \n",
        "    def set_batch_size(self, batch_size):\n",
        "        self.batch_size = batch_size\n",
        "    \n",
        "    def forward(self,x):\n",
        "        assert self.batch_size > 0, 'set a batch size'\n",
        "\n",
        "        #reshape x for LSTM\n",
        "        x = x.reshape((self.batch_size, self.seq_len, self.input_dim)).double()\n",
        "\n",
        "        #reshape x for LSTMCell\n",
        "        #x = x.reshape((self.batch_size, self.input_dim)).double()\n",
        "        \n",
        "        \n",
        "        #initialize hidden and cell state for LSTMCell\n",
        "        #hidden_, cell_ = torch.zeros(self.batch_size, self.hidden_dim).double().to(device), torch.zeros(self.batch_size, self.hidden_dim).double().to(device)\n",
        "        #initialize hidden and cell state for LSTM class \n",
        "        hidden_, cell_ = torch.zeros((1*self.num_layers, self.batch_size, self.hidden_dim)).double().to(device), torch.zeros((1*self.num_layers, self.batch_size, self.hidden_dim)).double().to(device)\n",
        "\n",
        "        #eingabe von x ins LSTM Layer\n",
        "        x, (hidden_, cell_) = self.LSTM(x, (hidden_, cell_))\n",
        "\n",
        "        #eingabe von x in die LSTMCell Layer\n",
        "        #for i,lstm in enumerate(self.rnn):\n",
        "        #    x_ = x[:,i]\n",
        "        #    x_ = x_.reshape((self.batch_size, self.input_dim)).double().to(device)\n",
        "        #    hidden_, cell_ = lstm(x_, (hidden_, cell_))\n",
        "        \n",
        "        #übergabe in fc wenn lstm genutzt wird\n",
        "        if len(hidden_.shape) == 3:\n",
        "            x = self.fc(hidden_[-1])\n",
        "        else:\n",
        "            x = self.fc(hidden_)\n",
        "        return x"
      ],
      "execution_count": null,
      "outputs": []
    },
    {
      "cell_type": "code",
      "metadata": {
        "id": "ET1HVGaWMgAd"
      },
      "source": [
        "def create_batches(data_list, batch_size = 64):\n",
        "    batches = list()\n",
        "    batch = list()\n",
        "\n",
        "    labels = list()\n",
        "    label = list()\n",
        "    for i, (d,l) in enumerate(data_list, start = 1):\n",
        "        \n",
        "        if i % batch_size == 0:\n",
        "            batch.append(torch.from_numpy(d))\n",
        "            label.append(torch.from_numpy(l))\n",
        "\n",
        "            batch = torch.stack(batch).to(device)\n",
        "            label = torch.stack(label).to(device)\n",
        "\n",
        "            batches.append(batch)\n",
        "            labels.append(label)\n",
        "\n",
        "            label = list()\n",
        "            batch = list()\n",
        "        else:\n",
        "            batch.append(torch.from_numpy(d))\n",
        "            label.append(torch.from_numpy(l))\n",
        "\n",
        "    if len(batch) > 0:\n",
        "        batch.append(torch.from_numpy(d))\n",
        "        label.append(torch.from_numpy(l))\n",
        "\n",
        "        batch = torch.stack(batch)\n",
        "        label = torch.stack(label)\n",
        "\n",
        "        batches.append(batch)\n",
        "        labels.append(label)\n",
        "    return batches, labels"
      ],
      "execution_count": null,
      "outputs": []
    },
    {
      "cell_type": "code",
      "metadata": {
        "id": "Qa0Z15-HWste"
      },
      "source": [
        "train_tens, train_labs = create_batches(train_)\n",
        "test_tens, test_labs = create_batches(test_, batch_size=1)"
      ],
      "execution_count": null,
      "outputs": []
    },
    {
      "cell_type": "code",
      "metadata": {
        "colab": {
          "base_uri": "https://localhost:8080/"
        },
        "id": "hdjN8weNX6jZ",
        "outputId": "4706a042-a4e3-4a89-bad1-0ff4475eebbf"
      },
      "source": [
        "train_tens[0].shape"
      ],
      "execution_count": null,
      "outputs": [
        {
          "output_type": "execute_result",
          "data": {
            "text/plain": [
              "torch.Size([64, 36])"
            ]
          },
          "metadata": {
            "tags": []
          },
          "execution_count": 105
        }
      ]
    },
    {
      "cell_type": "code",
      "metadata": {
        "colab": {
          "base_uri": "https://localhost:8080/"
        },
        "id": "udwfuJuIYW9c",
        "outputId": "1008587e-1a13-4b8f-d49e-aeef20cc042e"
      },
      "source": [
        "train_labs[0].shape"
      ],
      "execution_count": null,
      "outputs": [
        {
          "output_type": "execute_result",
          "data": {
            "text/plain": [
              "torch.Size([64])"
            ]
          },
          "metadata": {
            "tags": []
          },
          "execution_count": 106
        }
      ]
    },
    {
      "cell_type": "code",
      "metadata": {
        "id": "G0ebRJg9_kJt"
      },
      "source": [
        "def train():\n",
        "    avg_loss = 0\n",
        "    model.train()\n",
        "    for i, data in enumerate(train_tens):\n",
        "        batch_size = data.shape[0]\n",
        "        label = train_labs[i]\n",
        "        label,data = label.to(device), data.to(device)\n",
        "        model.set_batch_size(batch_size)\n",
        "\n",
        "        optimizer.zero_grad()#reset gradients \n",
        "\n",
        "        prediction = model(data.double())\n",
        "\n",
        "        label = label.double()\n",
        "        prediction = prediction.double()\n",
        "\n",
        "        #square root mse als loss\n",
        "        loss = torch.sqrt(criterion(prediction, label))\n",
        "        #loss = criterion(prediction, label)\n",
        "        avg_loss += loss.data\n",
        "\n",
        "        loss.backward()\n",
        "        optimizer.step()\n",
        "    return avg_loss/len(train_tens)\n",
        "\n",
        "def test():\n",
        "    model.eval()\n",
        "    error = 0\n",
        "    prediction_list = list()\n",
        "    with torch.no_grad():\n",
        "        for i, data in enumerate(test_tens):\n",
        "            data = data.double().to(device)\n",
        "            label = test_labs[i].double().to(device)\n",
        "            batch_size = data.shape[0]\n",
        "            model.set_batch_size(batch_size)\n",
        "            prediction = model(data)\n",
        "            loss = torch.sqrt(criterion(prediction, label))\n",
        "            error += loss.data\n",
        "            prediction_list.append((prediction.cpu().numpy(), label.cpu().numpy()))\n",
        "    return error/len(test_tens), prediction_list\n",
        "    #pass"
      ],
      "execution_count": null,
      "outputs": []
    },
    {
      "cell_type": "code",
      "metadata": {
        "id": "xdTyRamr6J0Z"
      },
      "source": [
        "#model = Predictor(seq_len=5).double().to(device)\n",
        "#for param in model.parameters():\n",
        "#    param.requires_grad = False\n",
        "#    print(param.shape)\n",
        "#    for p in range(param.shape[0]):\n",
        "#\n",
        "#        param[p] = torch.zeros(len(param[0]))\n",
        "#    break\n",
        "#for name, parameter in model.named_parameters():\n",
        "#    print(name, parameter)\n",
        "#    break"
      ],
      "execution_count": null,
      "outputs": []
    },
    {
      "cell_type": "code",
      "metadata": {
        "colab": {
          "base_uri": "https://localhost:8080/"
        },
        "id": "2LWbzf-iMdan",
        "outputId": "534f8377-8853-4395-8388-fe6367d6a725"
      },
      "source": [
        "#model = Predictor(seq_len=sequence_length, num_layers=1).double().to(device)\n",
        "print(model)\n",
        "lr = 0.001\n",
        "#optimierer und lossfunktion definieren\n",
        "optimizer = torch.optim.Adam(model.parameters(), lr=lr)\n",
        "criterion = nn.MSELoss().to(device)\n",
        "\n",
        "loss_df = pd.DataFrame(columns = ['epoche', 'loss', 'error'])\n",
        "\n",
        "for e in range(1,200):\n",
        "    #print('epoche', e)\n",
        "    l = train()\n",
        "    if (e+1)%10 == 0:\n",
        "        error, p_ = test()\n",
        "        print(f\"=========== Epoche {e+1} ===========\")\n",
        "        print('Testerror:', error.cpu().numpy())\n",
        "        loss_df.loc[len(loss_df), :] = [e, l, error]"
      ],
      "execution_count": null,
      "outputs": [
        {
          "output_type": "stream",
          "text": [
            "Predictor(\n",
            "  (rnn): ModuleList()\n",
            "  (fc): Sequential(\n",
            "    (0): Linear(in_features=1, out_features=1, bias=True)\n",
            "    (1): ReLU()\n",
            "    (2): Linear(in_features=1, out_features=1, bias=True)\n",
            "    (3): ReLU()\n",
            "    (4): Linear(in_features=1, out_features=1, bias=True)\n",
            "    (5): ReLU()\n",
            "  )\n",
            "  (LSTM): LSTM(1, 1, batch_first=True)\n",
            ")\n",
            "=========== Epoche 10 ===========\n",
            "Testerror: 165.49605238360476\n",
            "=========== Epoche 20 ===========\n",
            "Testerror: 159.79606966307878\n",
            "=========== Epoche 30 ===========\n",
            "Testerror: 154.09608893346592\n",
            "=========== Epoche 40 ===========\n",
            "Testerror: 148.3961104072533\n",
            "=========== Epoche 50 ===========\n",
            "Testerror: 142.69613443448375\n",
            "=========== Epoche 60 ===========\n",
            "Testerror: 136.99616143860754\n",
            "=========== Epoche 70 ===========\n",
            "Testerror: 131.29619193481938\n",
            "=========== Epoche 80 ===========\n",
            "Testerror: 125.59622655506195\n",
            "=========== Epoche 90 ===========\n",
            "Testerror: 119.89626608137733\n",
            "=========== Epoche 100 ===========\n",
            "Testerror: 114.19631149090641\n",
            "=========== Epoche 110 ===========\n",
            "Testerror: 108.49636401758936\n",
            "=========== Epoche 120 ===========\n",
            "Testerror: 102.79642523791583\n",
            "=========== Epoche 130 ===========\n",
            "Testerror: 97.09649719228503\n",
            "=========== Epoche 140 ===========\n",
            "Testerror: 91.39658255979013\n",
            "=========== Epoche 150 ===========\n",
            "Testerror: 85.69668491556236\n",
            "=========== Epoche 160 ===========\n",
            "Testerror: 79.99680911859646\n",
            "=========== Epoche 170 ===========\n",
            "Testerror: 74.29696191228312\n",
            "=========== Epoche 180 ===========\n",
            "Testerror: 68.5971528835463\n",
            "=========== Epoche 190 ===========\n",
            "Testerror: 62.897396051824366\n",
            "=========== Epoche 200 ===========\n",
            "Testerror: 57.19771261659621\n"
          ],
          "name": "stdout"
        }
      ]
    },
    {
      "cell_type": "code",
      "metadata": {
        "colab": {
          "base_uri": "https://localhost:8080/",
          "height": 785
        },
        "id": "AU-Izy5geTX5",
        "outputId": "e5d72ec0-ca19-4a50-d2b8-37fc00bb8254"
      },
      "source": [
        "plt.figure(figsize = (12,6))\n",
        "plt.plot(loss_df.epoche, loss_df.loss, 'o', c = 'tab:blue')\n",
        "plt.plot(loss_df.epoche, loss_df.loss, '--', c = 'tab:blue')\n",
        "plt.title('Trainingsloss', fontsize = 15)\n",
        "\n",
        "plt.figure(figsize = (12,6))\n",
        "plt.plot(loss_df.epoche, loss_df.error, 'o', c = 'tab:blue')\n",
        "plt.plot(loss_df.epoche, loss_df.error, '--', c = 'tab:blue')\n",
        "plt.title('Error auf Testdaten', fontsize = 15)"
      ],
      "execution_count": null,
      "outputs": [
        {
          "output_type": "execute_result",
          "data": {
            "text/plain": [
              "Text(0.5, 1.0, 'Error auf Testdaten')"
            ]
          },
          "metadata": {
            "tags": []
          },
          "execution_count": 111
        },
        {
          "output_type": "display_data",
          "data": {
            "image/png": "[encoded data removed]",
            "text/plain": [
              "<Figure size 864x432 with 1 Axes>"
            ]
          },
          "metadata": {
            "tags": [],
            "needs_background": "light"
          }
        },
        {
          "output_type": "display_data",
          "data": {
            "image/png": "[encoded data removed]",
            "text/plain": [
              "<Figure size 864x432 with 1 Axes>"
            ]
          },
          "metadata": {
            "tags": [],
            "needs_background": "light"
          }
        }
      ]
    },
    {
      "cell_type": "code",
      "metadata": {
        "id": "NuUhyGakppVX",
        "colab": {
          "base_uri": "https://localhost:8080/",
          "height": 392
        },
        "outputId": "3b404015-a110-4576-94dd-331cd058cd66"
      },
      "source": [
        "target = [d[0] for _, d in p_]\n",
        "predictions = [t[0][0] for t, _ in p_]\n",
        "plt.figure(figsize=(12,6))\n",
        "plt.plot(predictions, c = 'tab:orange', label = 'predictions')\n",
        "plt.plot(target, c = 'tab:blue', label = 'targets')\n",
        "plt.ylabel('Temperatur')\n",
        "plt.title('Vergleich Vorhersage - Wahrer Wert auf Testzeitraum', fontsize = 15)\n",
        "plt.legend();"
      ],
      "execution_count": null,
      "outputs": [
        {
          "output_type": "display_data",
          "data": {
            "image/png": "[encoded data removed]",
            "text/plain": [
              "<Figure size 864x432 with 1 Axes>"
            ]
          },
          "metadata": {
            "tags": [],
            "needs_background": "light"
          }
        }
      ]
    },
    {
      "cell_type": "code",
      "metadata": {
        "id": "zz9yo07vKV1O"
      },
      "source": [
        ""
      ],
      "execution_count": null,
      "outputs": []
    }
  ]
}